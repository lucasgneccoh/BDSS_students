{
 "cells": [
  {
   "cell_type": "markdown",
   "metadata": {
    "colab_type": "text",
    "id": "view-in-github"
   },
   "source": [
    "<a href=\"https://colab.research.google.com/github/lucasgneccoh/BDSS_Dauphine/blob/main/notebooks/students/BDSS_TD7_PostgreSQLJSON.ipynb\" target=\"_parent\"><img src=\"https://colab.research.google.com/assets/colab-badge.svg\" alt=\"Open In Colab\"/></a>"
   ]
  },
  {
   "cell_type": "markdown",
   "metadata": {
    "id": "M-9rovwlHP_X"
   },
   "source": [
    "# Bases de données semi-structurées - TD 7 - PostgreSQL and JSON\n",
    "\n",
    "Main teacher: **Dario COLAZZO**\n",
    "\n",
    "Teaching Assistant: **Lucas GNECCO**\n",
    "\n",
    "Special thanks to **Beatrice NAPOLITANO**\n",
    "\n",
    "Université Paris Dauphine - PSL"
   ]
  },
  {
   "cell_type": "markdown",
   "metadata": {},
   "source": [
    "# Introduction\n",
    "\n",
    "Welcome!\n",
    "\n",
    "In this notebook we will practice SQL while dealing with data in JSON format. To do so we will rely on PostgreSQL which has the capacity of dealing with such data.\n",
    "\n",
    "PostgreSQL has many in-built functions to handle JSON objects and its syntax allows to work with JSON data in a very familiar SQL-like way\n",
    "\n",
    "For more documentation please visit the official site\n",
    "\n",
    "https://www.postgresql.org/docs/9.3/functions-json.html\n",
    "\n",
    "\n",
    "***NOTE: This notebook was designed to be executed in Google Colab. Instructions below install PostgreSQL and use other tricks that were only tested in this environment***\n"
   ]
  },
  {
   "cell_type": "markdown",
   "metadata": {},
   "source": [
    "## Working with JSON in PostgreSQL\n",
    "\n",
    "In this notebook we will be using very simple datasets where each row contains a JSON object. We are by no means limited to that and we could have tables with \"normal\" columns and JSON columns all together. \n",
    "\n",
    "When dealing with JSON objects in PostgreSQl we have to use a special notation\n",
    "\n",
    "Imagine that the columns *info* contains a JSON object in each row. If one row is {'foo': 1, 'bar': [5, 6]}, then we can access the diferent fields using the operators -> and ->>\n",
    "\n",
    "For example *info* -> 'foo' would give 1, and *info* -> 'bar' would give the JSON array [5, 6].\n",
    "\n",
    "\n",
    "For more details and examples I suggest the folowing resources\n",
    "\n",
    "https://www.postgresqltutorial.com/postgresql-json/\n",
    "\n",
    "https://www.postgresql.org/docs/current/functions-json.html"
   ]
  },
  {
   "cell_type": "markdown",
   "metadata": {
    "id": "EO1XZsDnNyaM"
   },
   "source": [
    "# Database setup"
   ]
  },
  {
   "cell_type": "markdown",
   "metadata": {
    "id": "catOoEYfMw8F"
   },
   "source": [
    "## Install PostgreSQL\n"
   ]
  },
  {
   "cell_type": "code",
   "execution_count": null,
   "metadata": {
    "colab": {
     "base_uri": "https://localhost:8080/",
     "height": 0
    },
    "id": "MKU52QQMIY99",
    "outputId": "e13b11ac-472b-46da-a879-1cbcd7601cdc"
   },
   "outputs": [],
   "source": [
    "# install\n",
    "!apt install postgresql postgresql-contrib &>log\n",
    "!service postgresql start\n",
    "!sudo -u postgres psql -c \"CREATE USER root WITH SUPERUSER\"\n",
    "# set connection\n",
    "%load_ext sql\n",
    "%config SqlMagic.feedback=False \n",
    "%config SqlMagic.autopandas=True\n",
    "%sql postgresql+psycopg2://@/postgres"
   ]
  },
  {
   "cell_type": "markdown",
   "metadata": {
    "id": "5t_lkdgfN2Y8"
   },
   "source": [
    "## Create tables and insert data\n",
    "First get data from the original XML format and transform it to JSON\n",
    "Then insert it in the PostgreSQL tables"
   ]
  },
  {
   "cell_type": "code",
   "execution_count": null,
   "metadata": {
    "colab": {
     "base_uri": "https://localhost:8080/"
    },
    "id": "ZvzQy-c8NtAW",
    "outputId": "0b10c9b6-fc9c-47dc-d878-3bae72c961bd"
   },
   "outputs": [],
   "source": [
    "from lxml import etree\n",
    "import re\n",
    "from xml.dom.minidom import parse\n",
    "import copy\n",
    "\n",
    "\n",
    "!wget \"https://raw.githubusercontent.com/lucasgneccoh/BDSS_Dauphine/main/data/films.xml\"\n",
    "path = \"films.xml\"\n",
    "\n",
    "dom = parse(\"films.xml\")\n",
    "filmTextElems = [\"TITRE\", \"GENRE\", \"PAYS\", \"RESUME\"]\n",
    "artistTextElems = [\"ACTNOM\", \"ACTPNOM\", \"ANNEENAISS\"]\n",
    "roleTextElements = [\"NOM\", \"PRENOM\", \"INTITULE\"]\n",
    "\n",
    "def getText(node):\n",
    "    try:\n",
    "        return node.childNodes[0].data\n",
    "    except Exception as e:  \n",
    "        print(f'Problems getText with node {node.tagName}')\n",
    "        raise e\n",
    "\n",
    "def getAttributes(node):\n",
    "    res = {}\n",
    "    if node.hasAttributes():\n",
    "        for k, v in node.attributes.items():\n",
    "            res[k] = v\n",
    "    return res\n",
    "\n",
    "def getTextElements(node, elements):\n",
    "    res = {}\n",
    "    for elem in elements:\n",
    "        for t in node.getElementsByTagName(elem):\n",
    "            if t.hasChildNodes():\n",
    "                res[elem] = getText(t)\n",
    "            \n",
    "    return res\n",
    "\n",
    "# Get films\n",
    "films = []\n",
    "for f in dom.getElementsByTagName(\"FILM\"):\n",
    "    film = getTextElements(f, filmTextElems)\n",
    "    film.update(getAttributes(f))\n",
    "\n",
    "    # Read MES\n",
    "    for m in f.getElementsByTagName('MES'):\n",
    "        film[\"MES\"] = m.getAttribute('id_mes')\n",
    "    \n",
    "    # Read ROLES\n",
    "    roles = []\n",
    "    for r in f.getElementsByTagName('ROLE'):\n",
    "        roles.append(getTextElements(r, roleTextElements))\n",
    "    \n",
    "    film.update({'ROLES':  copy.deepcopy(roles)})\n",
    "\n",
    "    # I created a special TITRE. I have to create it\n",
    "    film[\"TITRE\"] = {\n",
    "        \"title\": film[\"TITRE\"],\n",
    "        \"lang\": \"@fr\",\n",
    "        \"note\": \"Lorem ipsum\"\n",
    "    }\n",
    "\n",
    "    films.append(film)\n",
    "\n",
    "\n",
    "# Get artists\n",
    "artists = []\n",
    "for a in dom.getElementsByTagName(\"ARTISTE\"):\n",
    "    artist = getTextElements(a, artistTextElems)\n",
    "    artist.update(getAttributes(a))\n",
    "    artists.append(artist)\n",
    "\n",
    "\n",
    "\n",
    "FILMS = {'arrArtistes':artists , 'arrFilms':films}"
   ]
  },
  {
   "cell_type": "code",
   "execution_count": null,
   "metadata": {
    "colab": {
     "base_uri": "https://localhost:8080/",
     "height": 66
    },
    "id": "iFemzW_0YFjF",
    "outputId": "519df2a6-a5b4-4c39-fb94-bc5cb96f113d"
   },
   "outputs": [],
   "source": [
    "%%sql\n",
    "\n",
    "DROP TABLE IF EXISTS artistsSQL;\n",
    "DROP TABLE IF EXISTS filmsSQL; \n",
    "\n",
    "CREATE TABLE filmsSQL (\n",
    "\tid serial NOT NULL PRIMARY KEY,\n",
    "\tdata json NOT NULL\n",
    ");\n",
    "CREATE TABLE artistsSQL (\n",
    "\tid serial NOT NULL PRIMARY KEY,\n",
    "\tdata json NOT NULL\n",
    ");"
   ]
  },
  {
   "cell_type": "code",
   "execution_count": null,
   "metadata": {
    "colab": {
     "base_uri": "https://localhost:8080/"
    },
    "id": "HHzGaE_ybH5x",
    "outputId": "77066050-074f-4a08-b2f3-377ed20dcb23"
   },
   "outputs": [],
   "source": [
    "# Be careful with the ' character\n",
    "a = \"retrouve l'un de ses\"\n",
    "b = re.sub(\"\\'\",\"''\", a)\n",
    "print(b)"
   ]
  },
  {
   "cell_type": "code",
   "execution_count": null,
   "metadata": {
    "id": "bF6Z9OLyOM6l"
   },
   "outputs": [],
   "source": [
    "%%capture\n",
    "import json\n",
    "import re\n",
    "\n",
    "\n",
    "for f in FILMS[\"arrArtistes\"]:\n",
    "    json_string = re.sub(\"\\'\",\"''\", json.dumps(f))\n",
    "    cmd = f'''INSERT INTO artistsSQL (data) VALUES('{json_string}')'''\n",
    "    %sql $cmd;\n",
    "\n",
    "for f in FILMS[\"arrFilms\"]:\n",
    "    json_string = re.sub(\"\\'\",\"''\", json.dumps(f))\n",
    "    cmd = f'''INSERT INTO filmsSQL (data) VALUES('{json_string}')'''\n",
    "    %sql $cmd;"
   ]
  },
  {
   "cell_type": "markdown",
   "metadata": {
    "id": "LZ5XcW2ZQlfI"
   },
   "source": [
    "## Make simple SELECT statements to see if the data is right\n",
    "\n",
    "Notice how we can access fields on the JSON objects in each row of our table"
   ]
  },
  {
   "cell_type": "code",
   "execution_count": null,
   "metadata": {
    "colab": {
     "base_uri": "https://localhost:8080/",
     "height": 161
    },
    "id": "zzYdpSmHSAmo",
    "outputId": "eaa196f4-1377-4566-ff13-8a2821240c84"
   },
   "outputs": [],
   "source": [
    "%%sql\n",
    "SELECT *\n",
    "FROM artistsSQL\n",
    "LIMIT 3\n",
    ";"
   ]
  },
  {
   "cell_type": "code",
   "execution_count": null,
   "metadata": {
    "colab": {
     "base_uri": "https://localhost:8080/",
     "height": 224
    },
    "id": "7f2fC-JnQvW9",
    "outputId": "adde9d25-e051-47c0-a21c-fe100955f162"
   },
   "outputs": [],
   "source": [
    "%%sql\n",
    "SELECT data -> 'ACTNOM' as nom,\n",
    "        data -> 'ACTPNOM' as prenom,\n",
    "        data -> 'ANNEENAISS' as anneN\n",
    "FROM artistsSQL\n",
    "WHERE CAST(data ->> 'ANNEENAISS' as INTEGER) > 1950\n",
    "LIMIT 5\n",
    ";"
   ]
  },
  {
   "cell_type": "markdown",
   "metadata": {
    "id": "QtmZthshUNjB"
   },
   "source": [
    "# Exercises\n",
    "\n",
    "Now that we have our data in PostgreSQL we can do a lot of things!\n",
    "\n",
    "We can do almost everything we know in standard SQL if we are able to create the right tables from our JSON data.\n",
    "\n",
    "On top of that, PostgreSQL has a lot of functions to deal with JSON objects that make this approach a lot easier and powerful.\n",
    "\n",
    "Here are some examples and documentation that can be helpful:\n",
    "\n",
    "\n",
    "https://www.postgresqltutorial.com/postgresql-json/\n",
    "\n",
    "https://www.postgresql.org/docs/current/functions-json.html\n",
    "\n"
   ]
  },
  {
   "cell_type": "markdown",
   "metadata": {
    "id": "Dhl5RUd3VCWz"
   },
   "source": [
    "## Exercise 1: Simple queries we already know\n",
    "\n",
    "Do queries 2, 4 and 8. They should not be that hard\n",
    "\n",
    "Query 2: Films released in 1980\n",
    "\n",
    "Query 4: Films with Bruce Willis in it\n",
    "\n",
    "Query 8: Role of Harvey Keitel in Reservoir Dogs\n",
    "\n",
    "\n",
    "If you want something a bit more challenging, try to do someething general. For example in Query 4, what if I want to look for some other artist?"
   ]
  },
  {
   "cell_type": "code",
   "execution_count": null,
   "metadata": {
    "colab": {
     "base_uri": "https://localhost:8080/",
     "height": 129
    },
    "id": "cxC-tjAkUQLJ",
    "outputId": "0084610f-7481-4bd5-d55e-25da844e873c"
   },
   "outputs": [],
   "source": [
    "# Query 2: Films released in 1980\n",
    "%%sql\n",
    "\n",
    "SELECT *\n",
    "FROM filmsSQL\n",
    "LIMIT 3\n",
    ";\n"
   ]
  },
  {
   "cell_type": "code",
   "execution_count": null,
   "metadata": {
    "colab": {
     "base_uri": "https://localhost:8080/"
    },
    "id": "lCxYs0VRcIyy",
    "outputId": "7ac874ea-2f29-4730-c043-8a0bf07fb0e3"
   },
   "outputs": [],
   "source": [
    "# Query 4: Films with Bruce Willis in it\n",
    "%%sql\n",
    "\n",
    "SELECT *\n",
    "FROM filmsSQL\n",
    "LIMIT 3\n",
    ";\n"
   ]
  },
  {
   "cell_type": "code",
   "execution_count": null,
   "metadata": {
    "colab": {
     "base_uri": "https://localhost:8080/",
     "height": 98
    },
    "id": "CnGkNcys52HC",
    "outputId": "f4a40217-31b0-47fe-967d-486f98881999"
   },
   "outputs": [],
   "source": [
    "# Query 8: Role of Harvey Keitel in Reservoir Dogs\n",
    "\n",
    "%%sql\n",
    "\n",
    "SELECT *\n",
    "FROM filmsSQL\n",
    "LIMIT 3\n",
    ";\n"
   ]
  },
  {
   "cell_type": "markdown",
   "metadata": {
    "id": "m9rjKNUa7mP1"
   },
   "source": [
    "## Exercise 2: More complex queries we have maybe talked about\n",
    "\n",
    "Let's use the nice SQL syntax to JOIN the two tables we have (films and artists)"
   ]
  },
  {
   "cell_type": "markdown",
   "metadata": {
    "id": "-HGdoSAV71bi"
   },
   "source": [
    "### Exercise 2.1: For every movie, show its title, year and the information about the director"
   ]
  },
  {
   "cell_type": "code",
   "execution_count": null,
   "metadata": {
    "id": "r1KkYVtUAMqK"
   },
   "outputs": [],
   "source": [
    "# '''\n",
    "#     Remember the basic JOIN syntax\n",
    "#     SELECT table1.column1, table2.column2...\n",
    "#     FROM table1\n",
    "#     INNER JOIN table2\n",
    "#     ON table1.common_filed = table2.common_field;\n",
    "# '''\n",
    "%%sql\n",
    "\n",
    "SELECT *\n",
    "FROM filmsSQL\n",
    "LIMIT 3\n",
    ";\n"
   ]
  },
  {
   "cell_type": "markdown",
   "metadata": {
    "id": "SvoFnhdvBTNI"
   },
   "source": [
    "### Exercise 2.2: For each artist, count the participations on any film (as actor, not as a director)"
   ]
  },
  {
   "cell_type": "code",
   "execution_count": null,
   "metadata": {
    "colab": {
     "base_uri": "https://localhost:8080/",
     "height": 441
    },
    "id": "SKSwF_2JBlqH",
    "outputId": "007c555e-f60d-4ab9-c749-a870a06770d9"
   },
   "outputs": [],
   "source": [
    "%%sql\n",
    "\n",
    "SELECT *\n",
    "FROM filmsSQL\n",
    "LIMIT 3\n",
    ";\n"
   ]
  },
  {
   "cell_type": "markdown",
   "metadata": {
    "id": "gXspPFdTDGoC"
   },
   "source": [
    "###  Exercise 2.3: For each artist, compute the average year of the films in which he/she has participated"
   ]
  },
  {
   "cell_type": "code",
   "execution_count": null,
   "metadata": {
    "colab": {
     "base_uri": "https://localhost:8080/",
     "height": 441
    },
    "id": "cYGWEWZlCrJ5",
    "outputId": "2e9840f7-0515-4e9d-8cee-36482af14d01"
   },
   "outputs": [],
   "source": [
    "%%sql\n",
    "\n",
    "SELECT *\n",
    "FROM filmsSQL\n",
    "LIMIT 3\n",
    ";\n"
   ]
  },
  {
   "cell_type": "markdown",
   "metadata": {
    "id": "xjmmANfmDUqs"
   },
   "source": [
    "###  Exercise 2.4: For each artist and each participation in a film, compute the age the artist had when he participated in the movie.\n",
    "\n",
    "Filter out NaN values !"
   ]
  },
  {
   "cell_type": "code",
   "execution_count": null,
   "metadata": {
    "colab": {
     "base_uri": "https://localhost:8080/",
     "height": 441
    },
    "id": "5Zpyd7uIDTns",
    "outputId": "62f506cf-3d45-4033-b7e3-6f3dbbd333cb"
   },
   "outputs": [],
   "source": [
    "%%sql\n",
    "\n",
    "SELECT *\n",
    "FROM filmsSQL\n",
    "LIMIT 3\n",
    ";\n"
   ]
  }
 ],
 "metadata": {
  "colab": {
   "authorship_tag": "ABX9TyNQ5czjSg3/3AVLdJWV2XHc",
   "collapsed_sections": [
    "catOoEYfMw8F"
   ],
   "include_colab_link": true,
   "name": "BDSS_TD7_PostgreSQLJSON_solutions.ipynb",
   "provenance": []
  },
  "kernelspec": {
   "display_name": "Python 3 (ipykernel)",
   "language": "python",
   "name": "python3"
  },
  "language_info": {
   "codemirror_mode": {
    "name": "ipython",
    "version": 3
   },
   "file_extension": ".py",
   "mimetype": "text/x-python",
   "name": "python",
   "nbconvert_exporter": "python",
   "pygments_lexer": "ipython3",
   "version": "3.8.10"
  }
 },
 "nbformat": 4,
 "nbformat_minor": 1
}
