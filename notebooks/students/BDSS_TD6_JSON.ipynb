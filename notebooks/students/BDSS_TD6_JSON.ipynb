{
 "cells": [
  {
   "cell_type": "markdown",
   "metadata": {
    "colab_type": "text",
    "id": "view-in-github"
   },
   "source": [
    "<a href=\"https://colab.research.google.com/github/lucasgneccoh/BDSS_Dauphine/blob/main/notebooks/students/BDSS_TD6_JSON.ipynb\" target=\"_parent\"><img src=\"https://colab.research.google.com/assets/colab-badge.svg\" alt=\"Open In Colab\"/></a>"
   ]
  },
  {
   "cell_type": "markdown",
   "metadata": {
    "id": "M-9rovwlHP_X"
   },
   "source": [
    "# Bases de données semi-structurées - TD 6 - JSON, JSONSchema and JSONPath\n",
    "\n",
    "Main teacher: **Dario COLAZZO**\n",
    "\n",
    "Teaching Assistant: **Lucas GNECCO**\n",
    "\n",
    "Special thanks to **Beatrice NAPOLITANO**\n",
    "\n",
    "Université Paris Dauphine - PSL"
   ]
  },
  {
   "cell_type": "markdown",
   "metadata": {},
   "source": [
    "# Introduction\n",
    "\n",
    "Welcome!\n",
    "\n",
    "In this notebook we will use the `json` and `jsonschema` Python libraries to load, save and validate JSON files and objects. We will also cover some JSONPath using the library `jsonpath-ng`\n",
    "\n",
    "Here is some important documentation and resources\n",
    "\n",
    "https://json-schema.org/learn/getting-started-step-by-step.html#starting"
   ]
  },
  {
   "cell_type": "markdown",
   "metadata": {
    "id": "6A0I1eANdH1u"
   },
   "source": [
    "# Examples"
   ]
  },
  {
   "cell_type": "markdown",
   "metadata": {
    "id": "V8i6vqq1FuQh"
   },
   "source": [
    "## `json` library examples\n",
    "Here we show how to read and write JSON files using the `json` library.\n",
    "\n",
    "Example file is taken from \n",
    "\n",
    "https://json-schema.org/learn/getting-started-step-by-step.html#properties-deeper"
   ]
  },
  {
   "cell_type": "code",
   "execution_count": null,
   "metadata": {
    "id": "SwLF3qxcFmqQ"
   },
   "outputs": [],
   "source": [
    "'''\n",
    "    Create a JSON object and write it in a file\n",
    "'''\n",
    "\n",
    "import json\n",
    "\n",
    "# Take the json example in Python format (a dictionary)\n",
    "# In Python, the equivalent of a JSON object is a dict\n",
    "# A JSON array is a list\n",
    "json_object = {\n",
    "                \"productId\": 1,\n",
    "                \"productName\": \"An ice sculpture\",\n",
    "                \"price\": 12.50,\n",
    "                \"tags\": [ \"cold\", \"ice\" ],\n",
    "                \"dimensions\": {\n",
    "                    \"length\": 7.0,\n",
    "                    \"width\": 12.0,\n",
    "                    \"height\": 9.5\n",
    "                    },\n",
    "                \"warehouseLocation\": {\n",
    "                    \"latitude\": -78.75,\n",
    "                    \"longitude\": 20.4\n",
    "                    }\n",
    "                }\n"
   ]
  },
  {
   "cell_type": "code",
   "execution_count": null,
   "metadata": {
    "colab": {
     "base_uri": "https://localhost:8080/"
    },
    "id": "9p-mFB7CcUY7",
    "outputId": "694e00d6-d53a-4f6e-a762-44ad9d6b6f41"
   },
   "outputs": [],
   "source": [
    "'''\n",
    "    First lets print the object as a string in JSON format\n",
    "    Then read a JSON object from a string\n",
    "    Use functions json.loads and json.dumps\n",
    "\n",
    "'''\n",
    "s = json.dumps(json_object)\n",
    "print(\"JSON object as a string:\\n\", type(s), s)\n",
    "\n",
    "json_object = None\n",
    "json_object = json.loads(s)\n",
    "print(\"JSON object read from a string:\\n\", type(json_object), json_object)\n"
   ]
  },
  {
   "cell_type": "code",
   "execution_count": null,
   "metadata": {
    "id": "HSs28a6pcPyW"
   },
   "outputs": [],
   "source": [
    "'''\n",
    "    Lets write this to a file called myjson.json\n",
    "    Use function json.dump\n",
    "'''\n",
    "\n",
    "filename = \"myjson.json\"\n",
    "with open(filename, \"w\") as f:\n",
    "    json.dump(json_object, f)\n",
    "    f.close()"
   ]
  },
  {
   "cell_type": "code",
   "execution_count": null,
   "metadata": {
    "colab": {
     "base_uri": "https://localhost:8080/"
    },
    "id": "R9tYIY3kX1PW",
    "outputId": "56fc251d-6f29-4020-dcdb-525588d69766"
   },
   "outputs": [],
   "source": [
    "'''\n",
    "    Now see the content of the file as it is\n",
    "'''\n",
    "!cat myjson.json"
   ]
  },
  {
   "cell_type": "code",
   "execution_count": null,
   "metadata": {
    "colab": {
     "base_uri": "https://localhost:8080/"
    },
    "id": "X9vRlDcKYHRJ",
    "outputId": "4ca84e27-4373-4b8e-dc3a-ff43badb7286"
   },
   "outputs": [],
   "source": [
    "'''\n",
    "    Lets read it in a Python object to see what it gives \n",
    "    Use function json.load\n",
    "'''\n",
    "json_object = None\n",
    "with open(filename, \"r\") as f:\n",
    "    json_object = json.load(f)\n",
    "\n",
    "\n",
    "print(f\"The json_object variable is of type: {type(json_object)}\")\n",
    "print()\n",
    "print(json_object)"
   ]
  },
  {
   "cell_type": "markdown",
   "metadata": {
    "id": "o8CGVXpAdKwF"
   },
   "source": [
    "## `jsonschema` library\n",
    "This library allows to validate JSON objects against a JSONSchema\n",
    "\n",
    "Again we folow the example given in \n",
    "\n",
    "https://json-schema.org/learn/getting-started-step-by-step.html#properties-deeper\n",
    "\n",
    "\n",
    "`jsonschema` documentation available at\n",
    "\n",
    "https://python-jsonschema.readthedocs.io/en/stable/\n",
    "\n"
   ]
  },
  {
   "cell_type": "code",
   "execution_count": null,
   "metadata": {
    "id": "BbDcEtvDeTRu"
   },
   "outputs": [],
   "source": [
    "%%capture\n",
    "!pip install jsonschema\n",
    "from jsonschema import Draft7Validator, RefResolver"
   ]
  },
  {
   "cell_type": "code",
   "execution_count": null,
   "metadata": {
    "id": "MMC5IRjWdnql"
   },
   "outputs": [],
   "source": [
    "schemaProducts =  {\n",
    "  \"$schema\": \"https://json-schema.org/draft/2020-12/schema\",\n",
    "  \"$id\": \"example.com.product.schema.json\",\n",
    "  \"title\": \"Product\",\n",
    "  \"description\": \"A product from Acme's catalog\",\n",
    "  \"type\": \"object\",\n",
    "  \"properties\": {\n",
    "    \"productId\": {\n",
    "      \"description\": \"The unique identifier for a product\",\n",
    "      \"type\": \"integer\"\n",
    "    },\n",
    "    \"productName\": {\n",
    "      \"description\": \"Name of the product\",\n",
    "      \"type\": \"string\"\n",
    "    },\n",
    "    \"price\": {\n",
    "      \"description\": \"The price of the product\",\n",
    "      \"type\": \"number\",\n",
    "      \"exclusiveMinimum\": 0\n",
    "    },\n",
    "    \"tags\": {\n",
    "      \"description\": \"Tags for the product\",\n",
    "      \"type\": \"array\",\n",
    "      \"items\": {\n",
    "        \"type\": \"string\"\n",
    "      },\n",
    "      \"minItems\": 1,\n",
    "      \"uniqueItems\": True\n",
    "    },\n",
    "    \"dimensions\": {\n",
    "      \"type\": \"object\",\n",
    "      \"properties\": {\n",
    "        \"length\": {\n",
    "          \"type\": \"number\"\n",
    "        },\n",
    "        \"width\": {\n",
    "          \"type\": \"number\"\n",
    "        },\n",
    "        \"height\": {\n",
    "          \"type\": \"number\"\n",
    "        }\n",
    "      },\n",
    "      \"required\": [ \"length\", \"width\", \"height\" ]\n",
    "    },\n",
    "    \"warehouseLocation\": {\n",
    "      \"description\": \"Coordinates of the warehouse where the product is located.\",\n",
    "      \"$ref\": \"example.com.geographical-location.schema.json\"\n",
    "    }\n",
    "  },\n",
    "  \"required\": [ \"productId\", \"productName\", \"price\" ]\n",
    "}\n",
    "\n",
    "schemaGeo = {\n",
    "  \"$id\": \"example.com.geographical-location.schema.json\",\n",
    "  \"$schema\": \"https://json-schema.org/draft/2020-12/schema\",\n",
    "  \"title\": \"Longitude and Latitude\",\n",
    "  \"description\": \"A geographical coordinate on a planet (most commonly Earth).\",\n",
    "  \"required\": [ \"latitude\", \"longitude\" ],\n",
    "  \"type\": \"object\",\n",
    "  \"properties\": {\n",
    "    \"latitude\": {\n",
    "      \"type\": \"number\",\n",
    "      \"minimum\": -90,\n",
    "      \"maximum\": 90\n",
    "    },\n",
    "    \"longitude\": {\n",
    "      \"type\": \"number\",\n",
    "      \"minimum\": -180,\n",
    "      \"maximum\": 180\n",
    "    }\n",
    "  }\n",
    "}\n",
    "\n",
    "json.dump(schemaProducts, open(\"schemaProducts.json\", \"w\") )\n",
    "json.dump(schemaGeo, open(\"schemaGeo.json\", \"w\") )"
   ]
  },
  {
   "cell_type": "code",
   "execution_count": null,
   "metadata": {
    "colab": {
     "base_uri": "https://localhost:8080/"
    },
    "id": "0Lm5vj_AdsSx",
    "outputId": "106c25b0-027a-4475-ea83-0628672876bd"
   },
   "outputs": [],
   "source": [
    "'''\n",
    "    Let's see if the example json object we worked with follows the schema or not\n",
    "'''\n",
    "schemaProducts, schemaGeo, json_object = None, None, None\n",
    "json_object = json.load(open(\"myjson.json\"))\n",
    "schemaProducts = json.load(open(\"schemaProducts.json\"))\n",
    "schemaGeo = json.load(open(\"schemaGeo.json\"))\n",
    "\n",
    "\n",
    "schema_store = {\n",
    "    schemaProducts['$id'] : schemaProducts,\n",
    "    schemaGeo['$id'] : schemaGeo,\n",
    "}\n",
    "\n",
    "# Create a resolver to work with local files and avoid fetching URLs\n",
    "resolver = RefResolver.from_schema(schemaProducts, store=schema_store)\n",
    "\n",
    "validator = Draft7Validator(schemaProducts, resolver=resolver)\n",
    "\n",
    "try:\n",
    "    validator.validate(json_object)\n",
    "    print(\"File is valid!\")\n",
    "except Exception as e:\n",
    "    print(\"File was not validated correctly. Here are the catched exceptions\\n\")\n",
    "    print(e)"
   ]
  },
  {
   "cell_type": "code",
   "execution_count": null,
   "metadata": {
    "colab": {
     "base_uri": "https://localhost:8080/"
    },
    "id": "CMoWnHXKlnHb",
    "outputId": "8a4a01d3-a841-4339-8e1a-5409beeef99c"
   },
   "outputs": [],
   "source": [
    "'''\n",
    "    Let's see what happens when we do not follow the schema\n",
    "'''\n",
    "\n",
    "json_object['warehouseLocation']['latitude'] = 120\n",
    "json_object['productId'] = 'Hello'\n",
    "\n",
    "try:\n",
    "    validator.validate(json_object)\n",
    "    print(\"File is valid!\")\n",
    "except Exception as e:\n",
    "    print(\"File was not validated correctly. Here are the catched exceptions\\n\")\n",
    "    print(e)"
   ]
  },
  {
   "cell_type": "markdown",
   "metadata": {
    "id": "LwMWWwBmnFTU"
   },
   "source": [
    "# Excercise 1: Write a schema\n",
    "\n",
    "To begin with, we are going to create a schema for a very simple situation we already know well... films!\n",
    "\n",
    "Take the original DTD for the FILMS database and make it a JSON schema. \n",
    "\n",
    "**You can change some things if you want to make it more complex or realistic, as long as the Schema is well written and makes sense.**\n",
    "\n",
    "***NOTE: Be careful, there might be some structural changes needed***\n",
    "\n",
    "Here is the DTD\n",
    "\n",
    "```\n",
    "    <!ELEMENT FILMS (FILM+, ARTISTE+)>\n",
    "    <!ELEMENT FILM (TITRE, GENRE, PAYS, MES, ROLES, RESUME?)>\n",
    "    <!ELEMENT TITRE (#PCDATA)>\n",
    "    <!ATTLIST FILM Annee CDATA #REQUIRED>\n",
    "    <!ELEMENT GENRE (#PCDATA)>\n",
    "    <!ELEMENT PAYS (#PCDATA)>\n",
    "    <!ELEMENT MES (#PCDATA)>\n",
    "    <!ATTLIST MES id_mes IDREF #IMPLIED>\n",
    "    <!ELEMENT ROLES (ROLE*)>\n",
    "    <!ELEMENT ROLE (PRENOM, NOM, INTITULE)>\n",
    "    <!ELEMENT PRENOM (#PCDATA)>\n",
    "    <!ELEMENT NOM (#PCDATA)>\n",
    "    <!ELEMENT INTITULE (#PCDATA)>\n",
    "    <!ELEMENT RESUME (#PCDATA)>\n",
    "    <!ELEMENT ARTISTE (ACTNOM, ACTPNOM, ANNEENAISS)>\n",
    "    <!ATTLIST ARTISTE id_art ID #REQUIRED>\n",
    "    <!ELEMENT ACTNOM (#PCDATA)>\n",
    "    <!ELEMENT ACTPNOM (#PCDATA)>\n",
    "    <!ELEMENT ANNEENAISS (#PCDATA)>\n",
    "```"
   ]
  },
  {
   "cell_type": "code",
   "execution_count": null,
   "metadata": {
    "colab": {
     "base_uri": "https://localhost:8080/"
    },
    "id": "ez0VlsI9tj6V",
    "outputId": "8679e5e8-ee9e-4114-a83a-0122182eacc6"
   },
   "outputs": [],
   "source": []
  },
  {
   "cell_type": "code",
   "execution_count": null,
   "metadata": {
    "id": "8TCrjDK_n5R-"
   },
   "outputs": [],
   "source": []
  },
  {
   "cell_type": "markdown",
   "metadata": {
    "id": "IZ3hOsDu4t3Q"
   },
   "source": [
    "# Excercise 2: XML to JSON\n",
    "\n",
    "Transform the original XML Films database into a JSON file (or files) following your schema.\n",
    "\n",
    "Use your favorite tool: Basic python, SAX, DOM..."
   ]
  },
  {
   "cell_type": "code",
   "execution_count": null,
   "metadata": {},
   "outputs": [],
   "source": [
    "# Download the file\n",
    "!wget \"https://raw.githubusercontent.com/lucasgneccoh/BDSS_Dauphine/main/data/films.xml\""
   ]
  },
  {
   "cell_type": "code",
   "execution_count": null,
   "metadata": {
    "id": "pQGcL-JP5Uha"
   },
   "outputs": [],
   "source": []
  },
  {
   "cell_type": "markdown",
   "metadata": {
    "id": "YiS7o5SC_PPS"
   },
   "source": [
    "# Excercise 3: Validate the data\n",
    "\n",
    "Validate the FILMS dataset you just created with the JSON schema you created using `jsonschema`"
   ]
  },
  {
   "cell_type": "code",
   "execution_count": null,
   "metadata": {
    "colab": {
     "base_uri": "https://localhost:8080/"
    },
    "id": "flV45W4m_ZJt",
    "outputId": "cae5ddd5-2bb7-4960-d2e5-d6f8cba8c948"
   },
   "outputs": [],
   "source": []
  },
  {
   "cell_type": "markdown",
   "metadata": {
    "id": "9CpQavsnBi0p"
   },
   "source": [
    "# Excercise 4: JSONPath to query the dataset\n",
    "\n",
    "We are going to redo some of the queries we have worked on but using this new tool, **JSONPath**.\n",
    "The implementation for Python we are going to use is called `jsonpath-ng`.\n",
    "\n",
    "\n",
    "`jsonpath-ng` PyPi site: https://pypi.org/project/jsonpath-ng/\n",
    "\n",
    "\n",
    "Some documentation about **JSONPath** comparing it to **XPath**: https://goessner.net/articles/JsonPath/\n",
    "\n",
    "\n",
    "Here is a nice documentation explaining how JSONPath works, but be careful because the implementation is for Java: https://github.com/json-path/JsonPath\n",
    "\n",
    "\n",
    "This blog also has some documentation and examples using Python and the library `jsonpath-ng`:\n",
    "https://blogboard.io/blog/knowledge/jsonpath-python/"
   ]
  },
  {
   "cell_type": "code",
   "execution_count": null,
   "metadata": {},
   "outputs": [],
   "source": [
    "!pip install jsonpath-ng\n",
    "from jsonpath_ng.ext import parse"
   ]
  },
  {
   "cell_type": "markdown",
   "metadata": {},
   "source": [
    "## Examples"
   ]
  },
  {
   "cell_type": "code",
   "execution_count": null,
   "metadata": {},
   "outputs": [],
   "source": [
    "'''\n",
    "    Get all the titles\n",
    "'''\n",
    "jsonpath_expr = parse('$.arrFilms[:].TITRE.title')\n",
    "\n",
    "result = [match.value for match in jsonpath_expr.find(FILMS)]\n",
    "\n",
    "print(\"Get all the titles\")\n",
    "\n",
    "print(\"\\n\" + \"-\"*30 + \"\\n\")\n",
    "print(result)\n",
    "print(\"\\n\" + \"-\"*30 + \"\\n\")\n"
   ]
  },
  {
   "cell_type": "markdown",
   "metadata": {},
   "source": [
    "## Queries\n",
    "\n",
    "Now try to do the original queries in TD1 on the FILMS dataset using **JSONPath**.\n",
    "\n",
    "If you find it two hard to do a query on pure JSONPath, you can mix JSONPath and pure Python using the results of a JSONPath query. Nevertheless remember that this would not be directly applicable to other JSONPath implementations, specially in other languages. "
   ]
  },
  {
   "cell_type": "code",
   "execution_count": null,
   "metadata": {},
   "outputs": [],
   "source": [
    "query_title = \"1. Get all the titles\"\n",
    "\n",
    "jsonpath_expr = parse('Your JSONPath query goes here')\n",
    "\n",
    "result = [match.value for match in jsonpath_expr.find(FILMS)]\n",
    "\n",
    "\n",
    "print(query_title)\n",
    "print(\"\\n\" + \"-\"*30 + \"\\n\")\n",
    "print(result)\n",
    "print(\"\\n\" + \"-\"*30 + \"\\n\")"
   ]
  },
  {
   "cell_type": "code",
   "execution_count": null,
   "metadata": {},
   "outputs": [],
   "source": [
    "query_title = \"2. Get all the titles of films from 1980\"\n",
    "\n",
    "jsonpath_expr = parse('Your JSONPath query goes here')\n",
    "\n",
    "result = [match.value for match in jsonpath_expr.find(FILMS)]\n",
    "\n",
    "print(query_title)\n",
    "print(\"\\n\" + \"-\"*30 + \"\\n\")\n",
    "print(result)\n",
    "print(\"\\n\" + \"-\"*30 + \"\\n\")"
   ]
  },
  {
   "cell_type": "code",
   "execution_count": null,
   "metadata": {},
   "outputs": [],
   "source": [
    "query_title = \"3. Alien abstract\"\n",
    "\n",
    "\n",
    "jsonpath_expr = parse('Your JSONPath query goes here')\n",
    "\n",
    "result = [match.value for match in jsonpath_expr.find(FILMS)]\n",
    "\n",
    "\n",
    "print(query_title)\n",
    "print(\"\\n\" + \"-\"*30 + \"\\n\")\n",
    "print(result)\n",
    "print(\"\\n\" + \"-\"*30 + \"\\n\")"
   ]
  },
  {
   "cell_type": "code",
   "execution_count": null,
   "metadata": {},
   "outputs": [],
   "source": [
    "query_title = \"4. Films with Bruce Willis\"\n",
    "\n",
    "\n",
    "jsonpath_expr = parse('Your JSONPath query goes here')\n",
    "\n",
    "result = [match.value for match in jsonpath_expr.find(FILMS)]\n",
    "\n",
    "\n",
    "print(query_title)\n",
    "print(\"\\n\" + \"-\"*30 + \"\\n\")\n",
    "print(result)\n",
    "print(\"\\n\" + \"-\"*30 + \"\\n\")"
   ]
  },
  {
   "cell_type": "code",
   "execution_count": null,
   "metadata": {},
   "outputs": [],
   "source": [
    "query_title = \"5. Films with a RESUME\"\n",
    "\n",
    "jsonpath_expr = parse('Your JSONPath query goes here')\n",
    "\n",
    "result = [match.value for match in jsonpath_expr.find(FILMS)]\n",
    "\n",
    "\n",
    "print(query_title)\n",
    "print(\"\\n\" + \"-\"*30 + \"\\n\")\n",
    "print(result)\n",
    "print(\"\\n\" + \"-\"*30 + \"\\n\")"
   ]
  },
  {
   "cell_type": "code",
   "execution_count": null,
   "metadata": {},
   "outputs": [],
   "source": [
    "query_title = \"6. Films without a RESUME\"\n",
    "\n",
    "# This one might be a little harder than before, as negations are not implemented in this library (AFAIK)\n",
    "\n",
    "jsonpath_expr = parse('Your JSONPath query goes here')\n",
    "\n",
    "result = [match.value for match in jsonpath_expr.find(FILMS)]\n",
    "\n",
    "\n",
    "print(query_title)\n",
    "print(\"\\n\" + \"-\"*30 + \"\\n\")\n",
    "print(result)\n",
    "print(\"\\n\" + \"-\"*30 + \"\\n\")"
   ]
  },
  {
   "cell_type": "code",
   "execution_count": null,
   "metadata": {},
   "outputs": [],
   "source": [
    "query_title = \"7. Films older than 30 years\"\n",
    "# Maybe you can use the datetime library\n",
    "\n",
    "jsonpath_expr = parse('Your JSONPath query goes here')\n",
    "\n",
    "result = [match.value for match in jsonpath_expr.find(FILMS)]\n",
    "\n",
    "\n",
    "print(query_title)\n",
    "print(\"\\n\" + \"-\"*30 + \"\\n\")\n",
    "print(result)\n",
    "print(\"\\n\" + \"-\"*30 + \"\\n\")"
   ]
  },
  {
   "cell_type": "code",
   "execution_count": null,
   "metadata": {},
   "outputs": [],
   "source": [
    "query_title = \"8. Role of Harvey Keitel in Reservoir Dogs\"\n",
    "\n",
    "\n",
    "jsonpath_expr = parse('Your JSONPath query goes here')\n",
    "\n",
    "result = [match.value for match in jsonpath_expr.find(FILMS)]\n",
    "\n",
    "\n",
    "print(query_title)\n",
    "print(\"\\n\" + \"-\"*30 + \"\\n\")\n",
    "print(result)\n",
    "print(\"\\n\" + \"-\"*30 + \"\\n\")"
   ]
  },
  {
   "cell_type": "code",
   "execution_count": null,
   "metadata": {},
   "outputs": [],
   "source": [
    "query_title = \"9. Last film in database\"\n",
    "\n",
    "\n",
    "jsonpath_expr = parse('Your JSONPath query goes here')\n",
    "\n",
    "result = [match.value for match in jsonpath_expr.find(FILMS)]\n",
    "\n",
    "\n",
    "print(query_title)\n",
    "print(\"\\n\" + \"-\"*30 + \"\\n\")\n",
    "print(result)\n",
    "print(\"\\n\" + \"-\"*30 + \"\\n\")"
   ]
  },
  {
   "cell_type": "code",
   "execution_count": null,
   "metadata": {},
   "outputs": [],
   "source": [
    "query_title = \"10. Film preceding The Shining\"\n",
    "\n",
    "jsonpath_expr = parse('Your JSONPath query goes here')\n",
    "\n",
    "result = [match.value for match in jsonpath_expr.find(FILMS)]\n",
    "\n",
    "\n",
    "print(query_title)\n",
    "print(\"\\n\" + \"-\"*30 + \"\\n\")\n",
    "print(result)\n",
    "print(\"\\n\" + \"-\"*30 + \"\\n\")"
   ]
  },
  {
   "cell_type": "code",
   "execution_count": null,
   "metadata": {},
   "outputs": [],
   "source": [
    "query_title = \"11. Director of Vertigo\"\n",
    "\n",
    "jsonpath_expr = parse('Your JSONPath query goes here')\n",
    "\n",
    "result = [match.value for match in jsonpath_expr.find(FILMS)]\n",
    "\n",
    "\n",
    "print(query_title)\n",
    "print(\"\\n\" + \"-\"*30 + \"\\n\")\n",
    "print(result)\n",
    "print(\"\\n\" + \"-\"*30 + \"\\n\")"
   ]
  },
  {
   "cell_type": "code",
   "execution_count": null,
   "metadata": {},
   "outputs": [],
   "source": [
    "query_title = \"12. Titles with an S\"\n",
    "\n",
    "\n",
    "jsonpath_expr = parse('Your JSONPath query goes here')\n",
    "\n",
    "result = [match.value for match in jsonpath_expr.find(FILMS)]\n",
    "\n",
    "\n",
    "print(query_title)\n",
    "print(\"\\n\" + \"-\"*30 + \"\\n\")\n",
    "print(result)\n",
    "print(\"\\n\" + \"-\"*30 + \"\\n\")"
   ]
  },
  {
   "cell_type": "code",
   "execution_count": null,
   "metadata": {},
   "outputs": [],
   "source": [
    "query_title = \"13. Nodes with three descendants\"\n",
    "\n",
    "\n",
    "jsonpath_expr = parse('Your JSONPath query goes here')\n",
    "\n",
    "result = [match.value for match in jsonpath_expr.find(FILMS)]\n",
    "\n",
    "\n",
    "print(query_title)\n",
    "print(\"\\n\" + \"-\"*30 + \"\\n\")\n",
    "print(result)\n",
    "print(\"\\n\" + \"-\"*30 + \"\\n\")"
   ]
  },
  {
   "cell_type": "code",
   "execution_count": null,
   "metadata": {},
   "outputs": [],
   "source": [
    "query_title = \"14. Nodes whose name (tag) contains TU\"\n",
    "\n",
    "# This is again not easy to do (AFAIK). Try something, even if it is not perfect\n",
    "\n"
   ]
  },
  {
   "cell_type": "code",
   "execution_count": null,
   "metadata": {},
   "outputs": [],
   "source": []
  }
 ],
 "metadata": {
  "colab": {
   "authorship_tag": "ABX9TyNDxi0vAZLobzU2qTtd0zJy",
   "collapsed_sections": [
    "V8i6vqq1FuQh",
    "o8CGVXpAdKwF",
    "LwMWWwBmnFTU",
    "IZ3hOsDu4t3Q",
    "YiS7o5SC_PPS"
   ],
   "include_colab_link": true,
   "name": "BDSS_2021_TD6_JSON_solutions.ipynb",
   "provenance": []
  },
  "kernelspec": {
   "display_name": "Python 3 (ipykernel)",
   "language": "python",
   "name": "python3"
  },
  "language_info": {
   "codemirror_mode": {
    "name": "ipython",
    "version": 3
   },
   "file_extension": ".py",
   "mimetype": "text/x-python",
   "name": "python",
   "nbconvert_exporter": "python",
   "pygments_lexer": "ipython3",
   "version": "3.8.10"
  }
 },
 "nbformat": 4,
 "nbformat_minor": 1
}
